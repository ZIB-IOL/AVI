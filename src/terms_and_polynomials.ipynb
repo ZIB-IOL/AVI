{
 "cells": [
  {
   "cell_type": "markdown",
   "metadata": {},
   "source": [
    "# Polynomial handling\n",
    "Monomials (here as an example in 3 variables) are handled as follows:\n",
    "* monomials of degree 1 are coded as [1, 0, 0] for $x_1$, [0, 1, 0] for $x_2$ and [0, 0, 1] for $x_3$\n",
    "* for degree $\\ge 2$ monomials (here = 2 example) we save them as [2, 0, 0] for $x_1^2$, [1, 1, 0] for $x_1 x_2$, etc. "
   ]
  },
  {
   "cell_type": "markdown",
   "metadata": {},
   "source": [
    "Should be extendable to SparseArrays without much problem. For ease of understanding and testing I used normal Arrays/Vectors for now."
   ]
  },
  {
   "cell_type": "markdown",
   "metadata": {},
   "source": [
    "Also most methods still need to be given their expected input type, e.g. Vector{Int}, etc."
   ]
  },
  {
   "cell_type": "code",
   "execution_count": 1,
   "metadata": {},
   "outputs": [
    {
     "data": {
      "text/plain": [
       "unique_indices (generic function with 1 method)"
      ]
     },
     "execution_count": 1,
     "metadata": {},
     "output_type": "execute_result"
    }
   ],
   "source": [
    "function unique_indices(x)\n",
    "    \n",
    "    #=\n",
    "    This function returns the indices of unique elements in x.\n",
    "    \"i -> x[i], 1:length(x)\" means we want to return the value i if and \n",
    "    only if x[i] is unique for i in 1 through length(x)\n",
    "    =#\n",
    "    \n",
    "    a = unique(i -> x[i], 1:length(x))\n",
    "        \n",
    "    return a\n",
    "    \n",
    "end"
   ]
  },
  {
   "cell_type": "code",
   "execution_count": 2,
   "metadata": {},
   "outputs": [
    {
     "data": {
      "text/plain": [
       "monomial_multiplication (generic function with 1 method)"
      ]
     },
     "execution_count": 2,
     "metadata": {},
     "output_type": "execute_result"
    }
   ],
   "source": [
    "function monomial_multiplication(m1::Vector{Int}, m2::Vector{Int})\n",
    "    \n",
    "    #=\n",
    "    This function multiplies two monomials m1 and m2 by element-wise addition of their exponents.\n",
    "    The monomials are encoded as arrays where entry i is the exponent of variable x_i.\n",
    "    =#\n",
    "    \n",
    "    result = similar(m1)  # creates output vector of same dimension as input vectors\n",
    "    \n",
    "    for i in 1:length(m1)\n",
    "        result[i] = m1[i] + m2[i]\n",
    "    end\n",
    "    \n",
    "    return result\n",
    "    \n",
    "end"
   ]
  },
  {
   "cell_type": "code",
   "execution_count": 3,
   "metadata": {},
   "outputs": [
    {
     "data": {
      "text/plain": [
       "true"
      ]
     },
     "execution_count": 3,
     "metadata": {},
     "output_type": "execute_result"
    }
   ],
   "source": [
    "# Example of monomial_multiplication\n",
    "m1 = [2, 3, 0]  # represents x_1^2 * x_2^3\n",
    "m2 = [1, 0, 2]  # represents x_1^1 * x_3^2\n",
    "new_m = monomial_multiplication(m1, m2)  # should construct the monomial x_1^3 * x_2^3 * x_3^2\n",
    "new_m == [3, 3, 2]  # check for correct result"
   ]
  },
  {
   "cell_type": "code",
   "execution_count": 4,
   "metadata": {},
   "outputs": [
    {
     "data": {
      "text/plain": [
       "monomial_evaluation (generic function with 2 methods)"
      ]
     },
     "execution_count": 4,
     "metadata": {},
     "output_type": "execute_result"
    }
   ],
   "source": [
    "function monomial_evaluation(m::Vector, x::Vector, coeff::Real=1)\n",
    "    \n",
    "    #=\n",
    "    This function evaluates a monomial m at the point x.\n",
    "    The optional \"coeff\" argument can be input to the function to use a different coeff than 1.\n",
    "    For-loop seems pretty fast compared to naive alternatives using broadcasting.\n",
    "    =#\n",
    "    \n",
    "    result = 1\n",
    "    \n",
    "    for i in 1:length(m)\n",
    "        result *= x[i]^m[i]\n",
    "    end\n",
    "    \n",
    "    return coeff * result\n",
    "    \n",
    "end"
   ]
  },
  {
   "cell_type": "code",
   "execution_count": 5,
   "metadata": {},
   "outputs": [
    {
     "data": {
      "text/plain": [
       "true"
      ]
     },
     "execution_count": 5,
     "metadata": {},
     "output_type": "execute_result"
    }
   ],
   "source": [
    "# Example of monomial_evaluation\n",
    "m = [3, 3, 2]  # monomial x_1^3 * x_2^3 * x_3^2\n",
    "x = [1, 2, 3]  # point [x_1, x_2, x_3] at which we want to evaluate m\n",
    "m_eval = monomial_evaluation(m, x)  # should result in 1^3 * 2^3 * 3^2 = 1 * 8 * 9 = 72\n",
    "m_eval == 72"
   ]
  },
  {
   "cell_type": "code",
   "execution_count": 6,
   "metadata": {},
   "outputs": [
    {
     "data": {
      "text/plain": [
       "true"
      ]
     },
     "execution_count": 6,
     "metadata": {},
     "output_type": "execute_result"
    }
   ],
   "source": [
    "# Example of monomial_evaluation with \"coeff\" changed\n",
    "m = [3, 3, 2]  # monomial x_1^3 * x_2^3 * x_3^2\n",
    "x = [1, 2, 3]  # point [x_1, x_2, x_3] at which we want to evaluate m\n",
    "m_eval = monomial_evaluation(m, x, 3)  # should result in 3 * 1^3 * 2^3 * 3^2 = 3 * 1 * 8 * 9 = 3 * 72\n",
    "m_eval == 3 * 72"
   ]
  },
  {
   "cell_type": "code",
   "execution_count": 7,
   "metadata": {},
   "outputs": [
    {
     "data": {
      "text/plain": [
       "set_evaluation (generic function with 2 methods)"
      ]
     },
     "execution_count": 7,
     "metadata": {},
     "output_type": "execute_result"
    }
   ],
   "source": [
    "function set_evaluation(m, X, coeff::Any=1)\n",
    "    \n",
    "    #=\n",
    "    This function evaluates a set of points X under a given monomial m \n",
    "    and returns the output as a vector of lenght |X|.\n",
    "    =#\n",
    "    \n",
    "    results = ones(length(X))\n",
    "        \n",
    "    for i in 1:length(X)\n",
    "        results[i] = monomial_evaluation(m, X[i])\n",
    "    end\n",
    "    \n",
    "    return coeff * results\n",
    "    \n",
    "end"
   ]
  },
  {
   "cell_type": "code",
   "execution_count": 8,
   "metadata": {},
   "outputs": [
    {
     "data": {
      "text/plain": [
       "true"
      ]
     },
     "execution_count": 8,
     "metadata": {},
     "output_type": "execute_result"
    }
   ],
   "source": [
    "# Example of set_evaluation\n",
    "X = [[1, 2, 3], [1, 2, 4], [3, 2, 1]]  # set of points to be evaluated\n",
    "m = [2, 2, 2]  # monomial under which to evaluate\n",
    "y = set_evaluation(m, X)\n",
    "y == [4*9, 4*16, 9*4]  # check for correct result"
   ]
  },
  {
   "cell_type": "code",
   "execution_count": 9,
   "metadata": {},
   "outputs": [
    {
     "data": {
      "text/plain": [
       "set_eval_monomial_set (generic function with 2 methods)"
      ]
     },
     "execution_count": 9,
     "metadata": {},
     "output_type": "execute_result"
    }
   ],
   "source": [
    "function set_eval_monomial_set(M, X, coeffs::Any=1)\n",
    "    \n",
    "    #=\n",
    "    This function evaluates a set of points X under a set of monomials M and\n",
    "    returns the output as a vector of vectors of size |M| x |X|.\n",
    "    The i-th entry of the output is the evaluation vector of the set X under the i-th monomial in M in sequence.\n",
    "    The argument \"coeffs\" can optionally add coefficients to be used for each monomial\n",
    "    =#\n",
    "    \n",
    "    result = [[] for _ in 1:length(M)]\n",
    "    \n",
    "    for i in 1:length(M)\n",
    "        result[i] = set_evaluation(M[i], X)\n",
    "    end\n",
    "    \n",
    "    return coeffs .* result\n",
    "    \n",
    "end"
   ]
  },
  {
   "cell_type": "code",
   "execution_count": 10,
   "metadata": {},
   "outputs": [
    {
     "data": {
      "text/plain": [
       "true"
      ]
     },
     "execution_count": 10,
     "metadata": {},
     "output_type": "execute_result"
    }
   ],
   "source": [
    "# Example of set_eval_monomial_set\n",
    "M = [[2, 2, 2], [2, 1, 3]]  # set of monomials under which to evaluate\n",
    "y = set_eval_monomial_set(M, X)\n",
    "y == [\n",
    "    [4*9, 4*16, 9*4],\n",
    "    [2*27, 2*4^3, 9*2]\n",
    "]  # check for correct result"
   ]
  },
  {
   "cell_type": "markdown",
   "metadata": {},
   "source": [
    "We probably don't need all these methods and they are certainly not perfectly optimized but for now they do what they're supposed to do. "
   ]
  },
  {
   "cell_type": "markdown",
   "metadata": {},
   "source": [
    "These basic Julia implementations still are faster than any basic broadcasting implementations I tried to reduce code length. For-loops are indeed very fast."
   ]
  },
  {
   "cell_type": "code",
   "execution_count": null,
   "metadata": {},
   "outputs": [],
   "source": []
  }
 ],
 "metadata": {
  "kernelspec": {
   "display_name": "Julia 1.8.5",
   "language": "julia",
   "name": "julia-1.8"
  },
  "language_info": {
   "file_extension": ".jl",
   "mimetype": "application/julia",
   "name": "julia",
   "version": "1.8.5"
  }
 },
 "nbformat": 4,
 "nbformat_minor": 4
}
