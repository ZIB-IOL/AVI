{
 "cells": [
  {
   "cell_type": "code",
   "execution_count": 1,
   "id": "057f243b",
   "metadata": {},
   "outputs": [],
   "source": [
    "using LinearAlgebra"
   ]
  },
  {
   "cell_type": "code",
   "execution_count": 2,
   "id": "c27031e0",
   "metadata": {},
   "outputs": [
    {
     "data": {
      "text/plain": [
       "get_unique_indices (generic function with 1 method)"
      ]
     },
     "execution_count": 2,
     "metadata": {},
     "output_type": "execute_result"
    }
   ],
   "source": [
    "# From terms_and_polynomials.ipynb\n",
    "function get_unique_indices(x)\n",
    "    \n",
    "    #=\n",
    "    This function returns the indices of unique elements in x.\n",
    "    \"i -> x[i], 1:length(x)\" means we want to return the value i if and \n",
    "    only if x[i] is unique for i in 1 through length(x)\n",
    "    \n",
    "    TODO: \n",
    "    Extend to work as in the python code to return purged versions\n",
    "    of border_terms_raw and border_evaluations_raw alongside the indices\n",
    "    \n",
    "    =#\n",
    "    \n",
    "    a = unique(i -> x[i], 1:length(x))\n",
    "        \n",
    "    return a\n",
    "    \n",
    "end"
   ]
  },
  {
   "cell_type": "code",
   "execution_count": 3,
   "id": "c8ee0343",
   "metadata": {},
   "outputs": [
    {
     "data": {
      "text/plain": [
       "mat_to_arr_of_arrs (generic function with 2 methods)"
      ]
     },
     "execution_count": 3,
     "metadata": {},
     "output_type": "execute_result"
    }
   ],
   "source": [
    "function mat_to_arr_of_arrs(A::Matrix, col_is_row::Int=0)\n",
    "    #=\n",
    "    This function takes as input a matrix-type object and returns it\n",
    "    in form of an array of arrays as is. The rows of the matrix become \n",
    "    the rows of the array, i.e. the first row of A becomes the first array\n",
    "    in the output.\n",
    "    The optional parameter 'col_is_row' can be changed to 1 (default=0) if it is desired for\n",
    "    matrix columns to become the individual arrays. \n",
    "    =#\n",
    "\n",
    "    if  col_is_row == 0\n",
    "        # converts matrix to array of arrays with rows of matrix being the individual entries of array,\n",
    "        # i.e. first row of matrix A becomes the array result[1]\n",
    "        result = [A[i,:] for i in 1:size(A,1)]\n",
    "    \n",
    "    \n",
    "    elseif col_is_row == 1\n",
    "        # converts matrix to array of arrays with columns of matrix being the individual entries of array,\n",
    "        # i.e. first column of matrix A becomes the array result[1]\n",
    "        result = C = [A[:,i] for i in 1:size(A,2)]\n",
    "\n",
    "\n",
    "    else\n",
    "        println(\"The optional argument 'col_is_row' was given an invalid value.\")\n",
    "        return \n",
    "        \n",
    "    end\n",
    "    \n",
    "    return result\n",
    "    \n",
    "end"
   ]
  },
  {
   "cell_type": "code",
   "execution_count": 4,
   "id": "d97ec655",
   "metadata": {},
   "outputs": [
    {
     "data": {
      "text/plain": [
       "construct_border (generic function with 4 methods)"
      ]
     },
     "execution_count": 4,
     "metadata": {},
     "output_type": "execute_result"
    }
   ],
   "source": [
    "function construct_border(\n",
    "        terms::Vector, terms_eval::Vector, X_train::Vector, \n",
    "        degree_1_terms::Vector=[],  # These will eventually be SparseArrays\n",
    "        degree_1_terms_eval::Vector=[], \n",
    "        purging_terms::Vector=[])\n",
    "    \n",
    "    #=\n",
    "    This function constructs the border of terms. \n",
    "    Julia equivalent to same method in cgavi/src/feature_transformations/auxillary_functions_avi.py \n",
    "    \n",
    "    NOT YET COMPLETE! Only basic functionality of constructing the border and finding duplicates. \n",
    "    The purging terms part still needs to be implemented. Also the parts that make sure all \n",
    "    inputs are of the same shape/dimension, i.e. the fd() function from the python code.\n",
    "    =#\n",
    "    \n",
    "    if degree_1_terms == []\n",
    "        # 'I' comes from the LinearAlgebra package\n",
    "        border_terms_raw = mat_to_arr_of_arrs(\n",
    "            1 * Matrix(I, length(X_train[1]), length(X_train[1]))) \n",
    "            \n",
    "        border_terms_raw_evaluation = X_train\n",
    "        \n",
    "    else\n",
    "        # This is a pretty ugly way to do this but I guess it works? Probably going to clean this up sometime.\n",
    "        # Works in the same way as the cp.repeat() and cp.tile() part in the python code.\n",
    "        terms_repeat = repeat(terms, inner=length(degree_1_terms[1]))\n",
    "            \n",
    "        l = length(terms_repeat)\n",
    "        m = length(degree_1_terms)\n",
    "        k = Int(l / m)\n",
    "            \n",
    "        degree_1_terms_tile = repeat(degree_1_terms, outer=k)\n",
    "        \n",
    "        \n",
    "        border_terms_raw = degree_1_terms_tile + terms_repeat\n",
    "        \n",
    "        # Will insert the same thing for the evaluation part. Should not be too hard, just need to \n",
    "        # figure out how the dimensions will look\n",
    "         \n",
    "    end\n",
    "    \n",
    "    unique_indices = get_unique_indices(border_terms_raw)\n",
    "    \n",
    "    #= \n",
    "    TODO:\n",
    "    Implement the purging of terms given an array of 'purging_terms'\n",
    "    =#\n",
    "    non_purging_indices = unique_indices\n",
    "    \n",
    "    return border_terms_raw, non_purging_indices\n",
    "    \n",
    "end"
   ]
  },
  {
   "cell_type": "code",
   "execution_count": 5,
   "id": "5a1d8b95",
   "metadata": {},
   "outputs": [
    {
     "data": {
      "text/plain": [
       "([[4, 0, 0], [3, 1, 0], [3, 0, 1], [3, 1, 0], [2, 2, 0], [2, 1, 1], [3, 0, 1], [2, 1, 1], [2, 0, 2], [2, 2, 0], [1, 3, 0], [1, 2, 1], [1, 1, 2], [0, 2, 2], [0, 1, 3]], [1, 2, 3, 5, 6, 9, 11, 12, 13, 14, 15])"
      ]
     },
     "execution_count": 5,
     "metadata": {},
     "output_type": "execute_result"
    }
   ],
   "source": [
    "# Example\n",
    "deg_1_terms = [[1, 0, 0], [0, 1, 0], [0, 0, 1]]\n",
    "terms = [[3, 0, 0], [2, 1, 0], [2, 0, 1], [1, 2, 0], [0, 1, 2]]\n",
    "border = construct_border(terms, [1], [], deg_1_terms)"
   ]
  },
  {
   "cell_type": "code",
   "execution_count": 6,
   "id": "a782ef4f",
   "metadata": {},
   "outputs": [
    {
     "data": {
      "text/plain": [
       "3×3 Matrix{Int64}:\n",
       " 8  6   2\n",
       " 3  9   3\n",
       " 8  3  10"
      ]
     },
     "execution_count": 6,
     "metadata": {},
     "output_type": "execute_result"
    }
   ],
   "source": [
    "A = rand(1:10, 3, 3)"
   ]
  },
  {
   "cell_type": "code",
   "execution_count": 7,
   "id": "ff8cfefc",
   "metadata": {},
   "outputs": [
    {
     "data": {
      "text/plain": [
       "3-element Vector{Vector{Int64}}:\n",
       " [8, 6, 2]\n",
       " [3, 9, 3]\n",
       " [8, 3, 10]"
      ]
     },
     "execution_count": 7,
     "metadata": {},
     "output_type": "execute_result"
    }
   ],
   "source": [
    "B = mat_to_arr_of_arrs(A)"
   ]
  },
  {
   "cell_type": "code",
   "execution_count": null,
   "id": "afc64e7f",
   "metadata": {},
   "outputs": [],
   "source": []
  }
 ],
 "metadata": {
  "kernelspec": {
   "display_name": "Julia 1.8.5",
   "language": "julia",
   "name": "julia-1.8"
  },
  "language_info": {
   "file_extension": ".jl",
   "mimetype": "application/julia",
   "name": "julia",
   "version": "1.8.5"
  }
 },
 "nbformat": 4,
 "nbformat_minor": 5
}
